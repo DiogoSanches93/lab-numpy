{
 "cells": [
  {
   "cell_type": "markdown",
   "metadata": {},
   "source": [
    "# Intrduction to NumPy\n",
    "\n",
    "\n",
    "#### 1. Import NumPy under the name np."
   ]
  },
  {
   "cell_type": "code",
   "execution_count": 1,
   "metadata": {},
   "outputs": [],
   "source": [
    "# your code here\n",
    "import numpy as np"
   ]
  },
  {
   "cell_type": "markdown",
   "metadata": {},
   "source": [
    "#### 2. Print your NumPy version."
   ]
  },
  {
   "cell_type": "code",
   "execution_count": 2,
   "metadata": {},
   "outputs": [
    {
     "name": "stdout",
     "output_type": "stream",
     "text": [
      "1.17.2\n"
     ]
    }
   ],
   "source": [
    "# your code here\n",
    "print(np.version.version)"
   ]
  },
  {
   "cell_type": "markdown",
   "metadata": {},
   "source": [
    "#### 3. Generate a 2x3x5 3-dimensional array with random values. Assign the array to variable *a*.\n",
    "**Challenge**: there are at least three easy ways that use numpy to generate random arrays. How many ways can you find?"
   ]
  },
  {
   "cell_type": "code",
   "execution_count": 12,
   "metadata": {},
   "outputs": [],
   "source": [
    "# Method 1\n",
    "a = np.random.random((2,3,5))"
   ]
  },
  {
   "cell_type": "code",
   "execution_count": 4,
   "metadata": {},
   "outputs": [],
   "source": [
    "# Method 2"
   ]
  },
  {
   "cell_type": "code",
   "execution_count": 5,
   "metadata": {},
   "outputs": [],
   "source": [
    "# Method 3"
   ]
  },
  {
   "cell_type": "markdown",
   "metadata": {},
   "source": [
    "#### 4. Print *a*.\n"
   ]
  },
  {
   "cell_type": "code",
   "execution_count": 13,
   "metadata": {},
   "outputs": [
    {
     "name": "stdout",
     "output_type": "stream",
     "text": [
      "[[[0.53335325 0.46532155 0.32202456 0.51760177 0.50742676]\n",
      "  [0.83546458 0.66970049 0.5840186  0.37096479 0.40962391]\n",
      "  [0.06188188 0.02772426 0.15673776 0.05966477 0.95727352]]\n",
      "\n",
      " [[0.09317686 0.51139128 0.87402039 0.34776945 0.90570762]\n",
      "  [0.67772273 0.54708272 0.68985167 0.57309938 0.45938133]\n",
      "  [0.79890419 0.34498349 0.60600138 0.70280704 0.19999372]]]\n"
     ]
    }
   ],
   "source": [
    "# your code here\n",
    "print(a)"
   ]
  },
  {
   "cell_type": "markdown",
   "metadata": {},
   "source": [
    "#### 5. Create a 5x2x3 3-dimensional array with all values equaling 1. Assign the array to variable *b*."
   ]
  },
  {
   "cell_type": "code",
   "execution_count": 14,
   "metadata": {},
   "outputs": [],
   "source": [
    "# your code here\n",
    "b = np.ones((5,2,3), dtype=int)"
   ]
  },
  {
   "cell_type": "markdown",
   "metadata": {},
   "source": [
    "#### 6. Print *b*.\n"
   ]
  },
  {
   "cell_type": "code",
   "execution_count": 15,
   "metadata": {},
   "outputs": [
    {
     "name": "stdout",
     "output_type": "stream",
     "text": [
      "[[[1 1 1]\n",
      "  [1 1 1]]\n",
      "\n",
      " [[1 1 1]\n",
      "  [1 1 1]]\n",
      "\n",
      " [[1 1 1]\n",
      "  [1 1 1]]\n",
      "\n",
      " [[1 1 1]\n",
      "  [1 1 1]]\n",
      "\n",
      " [[1 1 1]\n",
      "  [1 1 1]]]\n"
     ]
    }
   ],
   "source": [
    "# your code here\n",
    "print(b)"
   ]
  },
  {
   "cell_type": "markdown",
   "metadata": {},
   "source": [
    "#### 7. Do *a* and *b* have the same size? How do you prove that in Python code?"
   ]
  },
  {
   "cell_type": "code",
   "execution_count": 16,
   "metadata": {},
   "outputs": [
    {
     "data": {
      "text/plain": [
       "True"
      ]
     },
     "execution_count": 16,
     "metadata": {},
     "output_type": "execute_result"
    }
   ],
   "source": [
    "# your code here\n",
    "a.size == b.size"
   ]
  },
  {
   "cell_type": "markdown",
   "metadata": {},
   "source": [
    "#### 8. Are you able to add *a* and *b*? Why or why not?\n"
   ]
  },
  {
   "cell_type": "code",
   "execution_count": 17,
   "metadata": {},
   "outputs": [
    {
     "ename": "ValueError",
     "evalue": "operands could not be broadcast together with shapes (2,3,5) (5,2,3) ",
     "output_type": "error",
     "traceback": [
      "\u001b[0;31m---------------------------------------------------------------------------\u001b[0m",
      "\u001b[0;31mValueError\u001b[0m                                Traceback (most recent call last)",
      "\u001b[0;32m<ipython-input-17-70207014c8ba>\u001b[0m in \u001b[0;36m<module>\u001b[0;34m\u001b[0m\n\u001b[1;32m      1\u001b[0m \u001b[0;31m# your answer here\u001b[0m\u001b[0;34m\u001b[0m\u001b[0;34m\u001b[0m\u001b[0;34m\u001b[0m\u001b[0m\n\u001b[0;32m----> 2\u001b[0;31m \u001b[0ma\u001b[0m\u001b[0;34m+\u001b[0m\u001b[0mb\u001b[0m\u001b[0;34m\u001b[0m\u001b[0;34m\u001b[0m\u001b[0m\n\u001b[0m\u001b[1;32m      3\u001b[0m \u001b[0;31m# They have different shapes, so they can't be added.\u001b[0m\u001b[0;34m\u001b[0m\u001b[0;34m\u001b[0m\u001b[0;34m\u001b[0m\u001b[0m\n",
      "\u001b[0;31mValueError\u001b[0m: operands could not be broadcast together with shapes (2,3,5) (5,2,3) "
     ]
    }
   ],
   "source": [
    "# your answer here\n",
    "a+b\n",
    "# They have different shapes, so they can't be added."
   ]
  },
  {
   "cell_type": "markdown",
   "metadata": {},
   "source": [
    "#### 9. Transpose *b* so that it has the same structure of *a* (i.e. become a 2x3x5 array). Assign the transposed array to variable *c*."
   ]
  },
  {
   "cell_type": "code",
   "execution_count": 18,
   "metadata": {},
   "outputs": [
    {
     "data": {
      "text/plain": [
       "(2, 3, 5)"
      ]
     },
     "execution_count": 18,
     "metadata": {},
     "output_type": "execute_result"
    }
   ],
   "source": [
    "# your code here\n",
    "c = np.transpose(b, (1,2,0))\n",
    "c.shape"
   ]
  },
  {
   "cell_type": "markdown",
   "metadata": {},
   "source": [
    "#### 10. Try to add *a* and *c*. Now it should work. Assign the sum to variable *d*. But why does it work now?"
   ]
  },
  {
   "cell_type": "code",
   "execution_count": 19,
   "metadata": {},
   "outputs": [],
   "source": [
    "# your code/answer here\n",
    "d = a+c\n",
    "# Because now they have the same shape."
   ]
  },
  {
   "cell_type": "markdown",
   "metadata": {},
   "source": [
    "#### 11. Print *a* and *d*. Notice the difference and relation of the two array in terms of the values? Explain."
   ]
  },
  {
   "cell_type": "code",
   "execution_count": 20,
   "metadata": {},
   "outputs": [
    {
     "name": "stdout",
     "output_type": "stream",
     "text": [
      "[[[0.53335325 0.46532155 0.32202456 0.51760177 0.50742676]\n",
      "  [0.83546458 0.66970049 0.5840186  0.37096479 0.40962391]\n",
      "  [0.06188188 0.02772426 0.15673776 0.05966477 0.95727352]]\n",
      "\n",
      " [[0.09317686 0.51139128 0.87402039 0.34776945 0.90570762]\n",
      "  [0.67772273 0.54708272 0.68985167 0.57309938 0.45938133]\n",
      "  [0.79890419 0.34498349 0.60600138 0.70280704 0.19999372]]]\n",
      "[[[1.53335325 1.46532155 1.32202456 1.51760177 1.50742676]\n",
      "  [1.83546458 1.66970049 1.5840186  1.37096479 1.40962391]\n",
      "  [1.06188188 1.02772426 1.15673776 1.05966477 1.95727352]]\n",
      "\n",
      " [[1.09317686 1.51139128 1.87402039 1.34776945 1.90570762]\n",
      "  [1.67772273 1.54708272 1.68985167 1.57309938 1.45938133]\n",
      "  [1.79890419 1.34498349 1.60600138 1.70280704 1.19999372]]]\n"
     ]
    }
   ],
   "source": [
    "# your code/answer here\n",
    "print(a)\n",
    "print(d)\n",
    "# d did the same of each element of a with each element of c, keeping the same shape."
   ]
  },
  {
   "cell_type": "markdown",
   "metadata": {},
   "source": [
    "#### 12. Multiply *a* and *c*. Assign the result to *e*."
   ]
  },
  {
   "cell_type": "code",
   "execution_count": 21,
   "metadata": {},
   "outputs": [],
   "source": [
    "# your code here\n",
    "e = a*c"
   ]
  },
  {
   "cell_type": "markdown",
   "metadata": {},
   "source": [
    "#### 13. Does *e* equal to *a*? Why or why not?\n"
   ]
  },
  {
   "cell_type": "code",
   "execution_count": 23,
   "metadata": {},
   "outputs": [
    {
     "name": "stdout",
     "output_type": "stream",
     "text": [
      "[[[0.53335325 0.46532155 0.32202456 0.51760177 0.50742676]\n",
      "  [0.83546458 0.66970049 0.5840186  0.37096479 0.40962391]\n",
      "  [0.06188188 0.02772426 0.15673776 0.05966477 0.95727352]]\n",
      "\n",
      " [[0.09317686 0.51139128 0.87402039 0.34776945 0.90570762]\n",
      "  [0.67772273 0.54708272 0.68985167 0.57309938 0.45938133]\n",
      "  [0.79890419 0.34498349 0.60600138 0.70280704 0.19999372]]]\n"
     ]
    }
   ],
   "source": [
    "# your code/answer here\n",
    "print(e)\n",
    "\n",
    "#Yes, because \"c\" was the transposition of \"b\" (which was 1 in each element). \n",
    "#So, each element of \"a\" multiplied by 1 (\"b\") will be \"e\""
   ]
  },
  {
   "cell_type": "markdown",
   "metadata": {},
   "source": [
    "#### 14. Identify the max, min, and mean values in *d*. Assign those values to variables *d_max*, *d_min* and *d_mean*."
   ]
  },
  {
   "cell_type": "code",
   "execution_count": 24,
   "metadata": {},
   "outputs": [],
   "source": [
    "# your code here\n",
    "d_max = d.max()\n",
    "d_min = d.min()\n",
    "d_mean = d.mean()"
   ]
  },
  {
   "cell_type": "markdown",
   "metadata": {},
   "source": [
    "#### 15. Now we want to label the values in *d*. First create an empty array *f* with the same shape (i.e. 2x3x5) as *d* using `np.empty`.\n"
   ]
  },
  {
   "cell_type": "code",
   "execution_count": 40,
   "metadata": {},
   "outputs": [
    {
     "data": {
      "text/plain": [
       "array([[[4609584428314778115, 4609278040779524900, 4608632688471958795,\n",
       "         4609513489957599955, 4609467665771703017],\n",
       "        [4610945016782408880, 4610198481696205074, 4609812604729351082,\n",
       "         4608853095690275920, 4609027200885616102],\n",
       "        [4607461110011651941, 4607307277766267998, 4607888302927751437,\n",
       "         4607451125018571838, 4611493595457028441]],\n",
       "\n",
       "       [[4607602050057305812, 4609485520389715815, 4611118656681080911,\n",
       "         4608748633170782558, 4611261363309205724],\n",
       "        [4610234610641384442, 4609646260340163760, 4610289234540420466,\n",
       "         4609763428964381088, 4609251288364524304],\n",
       "        [4610780363396236701, 4608736086320869453, 4609911606396794544,\n",
       "         4610347580302977130, 4608083110434115252]]])"
      ]
     },
     "execution_count": 40,
     "metadata": {},
     "output_type": "execute_result"
    }
   ],
   "source": [
    "# your code here\n",
    "\n",
    "f = np.empty([2,3,5], dtype = int)\n",
    "f"
   ]
  },
  {
   "cell_type": "markdown",
   "metadata": {},
   "source": [
    "#### 16. Populate the values in *f*. \n",
    "\n",
    "For each value in *d*, if it's larger than *d_min* but smaller than *d_mean*, assign 25 to the corresponding value in *f*. If a value in *d* is larger than *d_mean* but smaller than *d_max*, assign 75 to the corresponding value in *f*. If a value equals to *d_mean*, assign 50 to the corresponding value in *f*. Assign 0 to the corresponding value(s) in *f* for *d_min* in *d*. Assign 100 to the corresponding value(s) in *f* for *d_max* in *d*. In the end, f should have only the following values: 0, 25, 50, 75, and 100.\n",
    "\n",
    "**Note**: you don't have to use Numpy in this question."
   ]
  },
  {
   "cell_type": "code",
   "execution_count": 41,
   "metadata": {},
   "outputs": [
    {
     "name": "stdout",
     "output_type": "stream",
     "text": [
      "30\n"
     ]
    }
   ],
   "source": [
    "new_list = []\n",
    "# your code here\n",
    "print(d.size)\n",
    "for x in d:\n",
    "    for y in x:\n",
    "        for z in y:\n",
    "            if z > d_min and z < d_mean:\n",
    "                new_list.append(25)\n",
    "            elif z > d_mean and z < d_max:\n",
    "                new_list.append(75)\n",
    "            elif z == d_mean:\n",
    "                new_list.append(50)\n",
    "            elif z == d_min:\n",
    "                new_list.append(0)\n",
    "            elif z == d_max:\n",
    "                new_list.append(100)\n",
    "                \n",
    "new_list = np.array(new_list)\n",
    "\n",
    "f = new_list.reshape((2,3,5))\n"
   ]
  },
  {
   "cell_type": "code",
   "execution_count": 27,
   "metadata": {},
   "outputs": [
    {
     "name": "stdout",
     "output_type": "stream",
     "text": [
      "1.5333532537312073\n",
      "1.4653215545119531\n",
      "1.32202455634098\n",
      "1.517601774237552\n",
      "1.5074267609840553\n",
      "1.8354645824918343\n",
      "1.669700494213036\n",
      "1.584018595558272\n",
      "1.3709647900548312\n",
      "1.4096239093695373\n",
      "1.0618818799834682\n",
      "1.02772425983246\n",
      "1.1567377622655528\n",
      "1.0596647661398175\n",
      "1.957273517568032\n",
      "1.0931768567387978\n",
      "1.5113912825867943\n",
      "1.874020385191688\n",
      "1.3477694511844542\n",
      "1.9057076220538454\n",
      "1.677722731571747\n",
      "1.5470827213796774\n",
      "1.6898516736526656\n",
      "1.5730993822536234\n",
      "1.4593813250923553\n",
      "1.7989041864096642\n",
      "1.3449834908524452\n",
      "1.6060013816926748\n",
      "1.7028070354486098\n",
      "1.1999937180525366\n"
     ]
    }
   ],
   "source": [
    "for x in d:\n",
    "    for y in x:\n",
    "        for z in y:\n",
    "            print(z)"
   ]
  },
  {
   "cell_type": "markdown",
   "metadata": {},
   "source": [
    "#### 17. Print *d* and *f*. Do you have your expected *f*?\n",
    "For instance, if your *d* is:\n",
    "```python\n",
    "[[[1.85836099, 1.67064465, 1.62576044, 1.40243961, 1.88454931],\n",
    "[1.75354326, 1.69403643, 1.36729252, 1.61415071, 1.12104981],\n",
    "[1.72201435, 1.1862918 , 1.87078449, 1.7726778 , 1.88180042]],\n",
    "[[1.44747908, 1.31673383, 1.02000951, 1.52218947, 1.97066381],\n",
    "[1.79129243, 1.74983003, 1.96028037, 1.85166831, 1.65450881],\n",
    "[1.18068344, 1.9587381 , 1.00656599, 1.93402165, 1.73514584]]]\n",
    "```\n",
    "Your *f* should be:\n",
    "```python\n",
    "[[[ 75.,  75.,  75.,  25.,  75.],\n",
    "[ 75.,  75.,  25.,  25.,  25.],\n",
    "[ 75.,  25.,  75.,  75.,  75.]],\n",
    "[[ 25.,  25.,  25.,  25., 100.],\n",
    "[ 75.,  75.,  75.,  75.,  75.],\n",
    "[ 25.,  75.,   0.,  75.,  75.]]]\n",
    "```"
   ]
  },
  {
   "cell_type": "code",
   "execution_count": 42,
   "metadata": {},
   "outputs": [
    {
     "name": "stdout",
     "output_type": "stream",
     "text": [
      "[[[1.53335325 1.46532155 1.32202456 1.51760177 1.50742676]\n",
      "  [1.83546458 1.66970049 1.5840186  1.37096479 1.40962391]\n",
      "  [1.06188188 1.02772426 1.15673776 1.05966477 1.95727352]]\n",
      "\n",
      " [[1.09317686 1.51139128 1.87402039 1.34776945 1.90570762]\n",
      "  [1.67772273 1.54708272 1.68985167 1.57309938 1.45938133]\n",
      "  [1.79890419 1.34498349 1.60600138 1.70280704 1.19999372]]]\n",
      "[[[ 75  25  25  75  75]\n",
      "  [ 75  75  75  25  25]\n",
      "  [ 25   0  25  25 100]]\n",
      "\n",
      " [[ 25  75  75  25  75]\n",
      "  [ 75  75  75  75  25]\n",
      "  [ 75  25  75  75  25]]]\n"
     ]
    }
   ],
   "source": [
    "# your code here\n",
    "print(d)\n",
    "print(f)"
   ]
  },
  {
   "cell_type": "markdown",
   "metadata": {},
   "source": [
    "#### 18. Bonus question: instead of using numbers (i.e. 0, 25, 50, 75, and 100), use string values  (\"A\", \"B\", \"C\", \"D\", and \"E\") to label the array elements. For the example above, the expected result is:\n",
    "\n",
    "```python\n",
    "[[[ 'D',  'D',  'D',  'B',  'D'],\n",
    "[ 'D',  'D',  'B',  'B',  'B'],\n",
    "[ 'D',  'B',  'D',  'D',  'D']],\n",
    "[[ 'B',  'B',  'B',  'B',  'E'],\n",
    "[ 'D',  'D',  'D',  'D',  'D'],\n",
    "[ 'B',  'D',   'A',  'D', 'D']]]\n",
    "```\n",
    "**Note**: you don't have to use Numpy in this question."
   ]
  },
  {
   "cell_type": "code",
   "execution_count": 45,
   "metadata": {},
   "outputs": [],
   "source": [
    "# your code here\n"
   ]
  }
 ],
 "metadata": {
  "kernelspec": {
   "display_name": "Python 3",
   "language": "python",
   "name": "python3"
  },
  "language_info": {
   "codemirror_mode": {
    "name": "ipython",
    "version": 3
   },
   "file_extension": ".py",
   "mimetype": "text/x-python",
   "name": "python",
   "nbconvert_exporter": "python",
   "pygments_lexer": "ipython3",
   "version": "3.7.4"
  }
 },
 "nbformat": 4,
 "nbformat_minor": 2
}
